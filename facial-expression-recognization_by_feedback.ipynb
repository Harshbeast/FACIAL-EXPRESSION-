{
 "cells": [
  {
   "cell_type": "code",
   "execution_count": 1,
   "metadata": {},
   "outputs": [],
   "source": [
    "import numpy as np\n",
    "import pandas as pd\n",
    "import matplotlib.pyplot as plt\n",
    "\n",
    "from tensorflow.keras.preprocessing.image import ImageDataGenerator\n",
    "from keras.models import Sequential\n",
    "from keras.layers import Conv2D, MaxPooling2D, Flatten, Dense, Dropout\n",
    "from keras.optimizers import Adam\n",
    "from sklearn.metrics import classification_report, confusion_matrix,auc\n",
    "import cv2"
   ]
  },
  {
   "cell_type": "code",
   "execution_count": 2,
   "metadata": {},
   "outputs": [
    {
     "data": {
      "text/html": [
       "<div>\n",
       "<style scoped>\n",
       "    .dataframe tbody tr th:only-of-type {\n",
       "        vertical-align: middle;\n",
       "    }\n",
       "\n",
       "    .dataframe tbody tr th {\n",
       "        vertical-align: top;\n",
       "    }\n",
       "\n",
       "    .dataframe thead th {\n",
       "        text-align: right;\n",
       "    }\n",
       "</style>\n",
       "<table border=\"1\" class=\"dataframe\">\n",
       "  <thead>\n",
       "    <tr style=\"text-align: right;\">\n",
       "      <th></th>\n",
       "      <th>emotion</th>\n",
       "      <th>pixels</th>\n",
       "      <th>Usage</th>\n",
       "    </tr>\n",
       "  </thead>\n",
       "  <tbody>\n",
       "    <tr>\n",
       "      <th>35882</th>\n",
       "      <td>6</td>\n",
       "      <td>50 36 17 22 23 29 33 39 34 37 37 37 39 43 48 5...</td>\n",
       "      <td>PrivateTest</td>\n",
       "    </tr>\n",
       "    <tr>\n",
       "      <th>35883</th>\n",
       "      <td>3</td>\n",
       "      <td>178 174 172 173 181 188 191 194 196 199 200 20...</td>\n",
       "      <td>PrivateTest</td>\n",
       "    </tr>\n",
       "    <tr>\n",
       "      <th>35884</th>\n",
       "      <td>0</td>\n",
       "      <td>17 17 16 23 28 22 19 17 25 26 20 24 31 19 27 9...</td>\n",
       "      <td>PrivateTest</td>\n",
       "    </tr>\n",
       "    <tr>\n",
       "      <th>35885</th>\n",
       "      <td>3</td>\n",
       "      <td>30 28 28 29 31 30 42 68 79 81 77 67 67 71 63 6...</td>\n",
       "      <td>PrivateTest</td>\n",
       "    </tr>\n",
       "    <tr>\n",
       "      <th>35886</th>\n",
       "      <td>2</td>\n",
       "      <td>19 13 14 12 13 16 21 33 50 57 71 84 97 108 122...</td>\n",
       "      <td>PrivateTest</td>\n",
       "    </tr>\n",
       "  </tbody>\n",
       "</table>\n",
       "</div>"
      ],
      "text/plain": [
       "       emotion                                             pixels        Usage\n",
       "35882        6  50 36 17 22 23 29 33 39 34 37 37 37 39 43 48 5...  PrivateTest\n",
       "35883        3  178 174 172 173 181 188 191 194 196 199 200 20...  PrivateTest\n",
       "35884        0  17 17 16 23 28 22 19 17 25 26 20 24 31 19 27 9...  PrivateTest\n",
       "35885        3  30 28 28 29 31 30 42 68 79 81 77 67 67 71 63 6...  PrivateTest\n",
       "35886        2  19 13 14 12 13 16 21 33 50 57 71 84 97 108 122...  PrivateTest"
      ]
     },
     "execution_count": 2,
     "metadata": {},
     "output_type": "execute_result"
    }
   ],
   "source": [
    "data=pd.read_csv(\"fer2013.csv\")\n",
    "\n",
    "data.tail()"
   ]
  },
  {
   "cell_type": "code",
   "execution_count": 20,
   "metadata": {},
   "outputs": [
    {
     "name": "stdout",
     "output_type": "stream",
     "text": [
      "<class 'pandas.core.frame.DataFrame'>\n",
      "RangeIndex: 35887 entries, 0 to 35886\n",
      "Data columns (total 3 columns):\n",
      " #   Column   Non-Null Count  Dtype \n",
      "---  ------   --------------  ----- \n",
      " 0   emotion  35887 non-null  int64 \n",
      " 1   pixels   35887 non-null  object\n",
      " 2   Usage    35887 non-null  object\n",
      "dtypes: int64(1), object(2)\n",
      "memory usage: 841.2+ KB\n"
     ]
    }
   ],
   "source": [
    "data.info()"
   ]
  },
  {
   "cell_type": "code",
   "execution_count": 21,
   "metadata": {},
   "outputs": [],
   "source": [
    "data=data.drop('Usage',axis=1)"
   ]
  },
  {
   "cell_type": "code",
   "execution_count": 22,
   "metadata": {},
   "outputs": [
    {
     "data": {
      "text/plain": [
       "(35887, 2)"
      ]
     },
     "execution_count": 22,
     "metadata": {},
     "output_type": "execute_result"
    }
   ],
   "source": [
    "data.shape"
   ]
  },
  {
   "cell_type": "code",
   "execution_count": 23,
   "metadata": {},
   "outputs": [
    {
     "data": {
      "text/plain": [
       "3    8989\n",
       "6    6198\n",
       "4    6077\n",
       "2    5121\n",
       "0    4953\n",
       "5    4002\n",
       "1     547\n",
       "Name: emotion, dtype: int64"
      ]
     },
     "execution_count": 23,
     "metadata": {},
     "output_type": "execute_result"
    }
   ],
   "source": [
    "data[\"emotion\"].value_counts()"
   ]
  },
  {
   "cell_type": "code",
   "execution_count": 24,
   "metadata": {},
   "outputs": [
    {
     "data": {
      "text/html": [
       "<div>\n",
       "<style scoped>\n",
       "    .dataframe tbody tr th:only-of-type {\n",
       "        vertical-align: middle;\n",
       "    }\n",
       "\n",
       "    .dataframe tbody tr th {\n",
       "        vertical-align: top;\n",
       "    }\n",
       "\n",
       "    .dataframe thead th {\n",
       "        text-align: right;\n",
       "    }\n",
       "</style>\n",
       "<table border=\"1\" class=\"dataframe\">\n",
       "  <thead>\n",
       "    <tr style=\"text-align: right;\">\n",
       "      <th></th>\n",
       "      <th>emotion</th>\n",
       "      <th>pixels</th>\n",
       "    </tr>\n",
       "  </thead>\n",
       "  <tbody>\n",
       "    <tr>\n",
       "      <th>0</th>\n",
       "      <td>False</td>\n",
       "      <td>False</td>\n",
       "    </tr>\n",
       "    <tr>\n",
       "      <th>1</th>\n",
       "      <td>False</td>\n",
       "      <td>False</td>\n",
       "    </tr>\n",
       "    <tr>\n",
       "      <th>2</th>\n",
       "      <td>False</td>\n",
       "      <td>False</td>\n",
       "    </tr>\n",
       "    <tr>\n",
       "      <th>3</th>\n",
       "      <td>False</td>\n",
       "      <td>False</td>\n",
       "    </tr>\n",
       "    <tr>\n",
       "      <th>4</th>\n",
       "      <td>False</td>\n",
       "      <td>False</td>\n",
       "    </tr>\n",
       "    <tr>\n",
       "      <th>...</th>\n",
       "      <td>...</td>\n",
       "      <td>...</td>\n",
       "    </tr>\n",
       "    <tr>\n",
       "      <th>35882</th>\n",
       "      <td>False</td>\n",
       "      <td>False</td>\n",
       "    </tr>\n",
       "    <tr>\n",
       "      <th>35883</th>\n",
       "      <td>False</td>\n",
       "      <td>False</td>\n",
       "    </tr>\n",
       "    <tr>\n",
       "      <th>35884</th>\n",
       "      <td>False</td>\n",
       "      <td>False</td>\n",
       "    </tr>\n",
       "    <tr>\n",
       "      <th>35885</th>\n",
       "      <td>False</td>\n",
       "      <td>False</td>\n",
       "    </tr>\n",
       "    <tr>\n",
       "      <th>35886</th>\n",
       "      <td>False</td>\n",
       "      <td>False</td>\n",
       "    </tr>\n",
       "  </tbody>\n",
       "</table>\n",
       "<p>35887 rows × 2 columns</p>\n",
       "</div>"
      ],
      "text/plain": [
       "       emotion  pixels\n",
       "0        False   False\n",
       "1        False   False\n",
       "2        False   False\n",
       "3        False   False\n",
       "4        False   False\n",
       "...        ...     ...\n",
       "35882    False   False\n",
       "35883    False   False\n",
       "35884    False   False\n",
       "35885    False   False\n",
       "35886    False   False\n",
       "\n",
       "[35887 rows x 2 columns]"
      ]
     },
     "execution_count": 24,
     "metadata": {},
     "output_type": "execute_result"
    }
   ],
   "source": [
    "data.isna()"
   ]
  },
  {
   "cell_type": "code",
   "execution_count": 25,
   "metadata": {},
   "outputs": [],
   "source": [
    "data['pixels'] = data['pixels'].apply(lambda x: x.reshape(48, 48, 1) if isinstance(x, np.ndarray) else np.array(x.split(), dtype='float32').reshape(48, 48, 1))"
   ]
  },
  {
   "cell_type": "code",
   "execution_count": 26,
   "metadata": {},
   "outputs": [],
   "source": [
    "x = np.array([pixels for pixels in data['pixels']])"
   ]
  },
  {
   "cell_type": "code",
   "execution_count": 27,
   "metadata": {},
   "outputs": [
    {
     "data": {
      "text/plain": [
       "dtype('float32')"
      ]
     },
     "execution_count": 27,
     "metadata": {},
     "output_type": "execute_result"
    }
   ],
   "source": [
    "x.dtype"
   ]
  },
  {
   "cell_type": "code",
   "execution_count": 28,
   "metadata": {},
   "outputs": [
    {
     "data": {
      "text/plain": [
       "(35887, 48, 48, 1)"
      ]
     },
     "execution_count": 28,
     "metadata": {},
     "output_type": "execute_result"
    }
   ],
   "source": [
    "x.shape"
   ]
  },
  {
   "cell_type": "code",
   "execution_count": 29,
   "metadata": {},
   "outputs": [],
   "source": [
    "y = data['emotion'].values"
   ]
  },
  {
   "cell_type": "code",
   "execution_count": 30,
   "metadata": {},
   "outputs": [
    {
     "data": {
      "text/plain": [
       "array([0, 0, 2, ..., 0, 3, 2], dtype=int64)"
      ]
     },
     "execution_count": 30,
     "metadata": {},
     "output_type": "execute_result"
    }
   ],
   "source": [
    "y"
   ]
  },
  {
   "cell_type": "code",
   "execution_count": 31,
   "metadata": {},
   "outputs": [],
   "source": [
    "x=x/255.0"
   ]
  },
  {
   "cell_type": "code",
   "execution_count": 32,
   "metadata": {},
   "outputs": [],
   "source": [
    "datagen = ImageDataGenerator(\n",
    "    rotation_range=20,\n",
    "    width_shift_range=0.2,\n",
    "    height_shift_range=0.2,\n",
    "    shear_range=0.2,\n",
    "    zoom_range=0.2,\n",
    "    horizontal_flip=True\n",
    ")\n",
    "\n",
    "datagen.fit(x)\n"
   ]
  },
  {
   "cell_type": "code",
   "execution_count": 40,
   "metadata": {},
   "outputs": [],
   "source": [
    "from tensorflow.keras.models import Sequential\n",
    "from tensorflow.keras.layers import Conv2D, MaxPooling2D, Dropout, Flatten, Dense, BatchNormalization, Activation\n",
    "from tensorflow.keras.optimizers import Adam\n",
    "\n",
    "from tensorflow.keras.layers import Input, Add\n",
    "from tensorflow.keras.models import Model\n",
    "\n",
    "input_layer = Input(shape=(48, 48, 1))\n",
    "\n",
    "# First Block\n",
    "hidden = Conv2D(64, (3, 3), padding='same')(input_layer)\n",
    "hidden = BatchNormalization()(hidden)\n",
    "hidden = Activation('relu')(hidden)\n",
    "hidden = MaxPooling2D(pool_size=(2, 2))(hidden)\n",
    "hidden = Dropout(0.25)(hidden)\n",
    "skip_connection = hidden  # Save output for later\n",
    "\n",
    "# Second Block\n",
    "hidden = Conv2D(128, (3, 3), padding='same')(hidden)\n",
    "hidden = BatchNormalization()(hidden)\n",
    "hidden = Activation('relu')(hidden)\n",
    "hidden = MaxPooling2D(pool_size=(2, 2))(hidden)\n",
    "hidden = Dropout(0.25)(hidden)\n",
    "\n",
    "# Third Block\n",
    "hidden = Conv2D(256, (3, 3), padding='same')(hidden)\n",
    "hidden = BatchNormalization()(hidden)\n",
    "hidden = Activation('relu')(hidden)\n",
    "hidden = MaxPooling2D(pool_size=(2, 2))(hidden)\n",
    "hidden = Dropout(0.25)(hidden)\n",
    "\n",
    "# (Optional) Match shape if needed using Conv2D\n",
    "skip_connection = Conv2D(256, (1, 1), padding='same')(skip_connection)\n",
    "skip_connection = MaxPooling2D(pool_size=(4, 4))(skip_connection)  # downsample to match\n",
    "\n",
    "# Add skip connection\n",
    "hidden = Add()([hidden, skip_connection])\n",
    "\n",
    "# Fully connected layers\n",
    "hidden = Flatten()(hidden)\n",
    "hidden = Dense(512)(hidden)\n",
    "hidden = BatchNormalization()(hidden)\n",
    "hidden = Activation('relu')(hidden)\n",
    "hidden = Dropout(0.5)(hidden)\n",
    "output_layer = Dense(7, activation='softmax')(hidden)\n",
    "\n",
    "# Build model\n",
    "model = Model(inputs=input_layer, outputs=output_layer)\n"
   ]
  },
  {
   "cell_type": "markdown",
   "metadata": {},
   "source": []
  },
  {
   "cell_type": "code",
   "execution_count": 41,
   "metadata": {},
   "outputs": [],
   "source": [
    "from tensorflow.keras.metrics import Precision, Recall, AUC\n",
    "\n",
    "model.compile(\n",
    "    optimizer=Adam(learning_rate=0.0001),\n",
    "    loss='categorical_crossentropy',\n",
    "    metrics=[\n",
    "        'accuracy',\n",
    "        Precision(name='precision'),\n",
    "        Recall(name='recall'),\n",
    "        AUC(name='auc', multi_label=True)\n",
    "    ]\n",
    ")\n"
   ]
  },
  {
   "cell_type": "code",
   "execution_count": 42,
   "metadata": {},
   "outputs": [
    {
     "name": "stdout",
     "output_type": "stream",
     "text": [
      "Model: \"model_2\"\n",
      "__________________________________________________________________________________________________\n",
      " Layer (type)                   Output Shape         Param #     Connected to                     \n",
      "==================================================================================================\n",
      " input_4 (InputLayer)           [(None, 48, 48, 1)]  0           []                               \n",
      "                                                                                                  \n",
      " conv2d_12 (Conv2D)             (None, 48, 48, 64)   640         ['input_4[0][0]']                \n",
      "                                                                                                  \n",
      " batch_normalization_11 (BatchN  (None, 48, 48, 64)  256         ['conv2d_12[0][0]']              \n",
      " ormalization)                                                                                    \n",
      "                                                                                                  \n",
      " activation_11 (Activation)     (None, 48, 48, 64)   0           ['batch_normalization_11[0][0]'] \n",
      "                                                                                                  \n",
      " max_pooling2d_11 (MaxPooling2D  (None, 24, 24, 64)  0           ['activation_11[0][0]']          \n",
      " )                                                                                                \n",
      "                                                                                                  \n",
      " dropout_11 (Dropout)           (None, 24, 24, 64)   0           ['max_pooling2d_11[0][0]']       \n",
      "                                                                                                  \n",
      " conv2d_13 (Conv2D)             (None, 24, 24, 128)  73856       ['dropout_11[0][0]']             \n",
      "                                                                                                  \n",
      " batch_normalization_12 (BatchN  (None, 24, 24, 128)  512        ['conv2d_13[0][0]']              \n",
      " ormalization)                                                                                    \n",
      "                                                                                                  \n",
      " activation_12 (Activation)     (None, 24, 24, 128)  0           ['batch_normalization_12[0][0]'] \n",
      "                                                                                                  \n",
      " max_pooling2d_12 (MaxPooling2D  (None, 12, 12, 128)  0          ['activation_12[0][0]']          \n",
      " )                                                                                                \n",
      "                                                                                                  \n",
      " dropout_12 (Dropout)           (None, 12, 12, 128)  0           ['max_pooling2d_12[0][0]']       \n",
      "                                                                                                  \n",
      " conv2d_14 (Conv2D)             (None, 12, 12, 256)  295168      ['dropout_12[0][0]']             \n",
      "                                                                                                  \n",
      " batch_normalization_13 (BatchN  (None, 12, 12, 256)  1024       ['conv2d_14[0][0]']              \n",
      " ormalization)                                                                                    \n",
      "                                                                                                  \n",
      " activation_13 (Activation)     (None, 12, 12, 256)  0           ['batch_normalization_13[0][0]'] \n",
      "                                                                                                  \n",
      " max_pooling2d_13 (MaxPooling2D  (None, 6, 6, 256)   0           ['activation_13[0][0]']          \n",
      " )                                                                                                \n",
      "                                                                                                  \n",
      " conv2d_15 (Conv2D)             (None, 24, 24, 256)  16640       ['dropout_11[0][0]']             \n",
      "                                                                                                  \n",
      " dropout_13 (Dropout)           (None, 6, 6, 256)    0           ['max_pooling2d_13[0][0]']       \n",
      "                                                                                                  \n",
      " max_pooling2d_14 (MaxPooling2D  (None, 6, 6, 256)   0           ['conv2d_15[0][0]']              \n",
      " )                                                                                                \n",
      "                                                                                                  \n",
      " add_2 (Add)                    (None, 6, 6, 256)    0           ['dropout_13[0][0]',             \n",
      "                                                                  'max_pooling2d_14[0][0]']       \n",
      "                                                                                                  \n",
      " flatten_2 (Flatten)            (None, 9216)         0           ['add_2[0][0]']                  \n",
      "                                                                                                  \n",
      " dense_4 (Dense)                (None, 512)          4719104     ['flatten_2[0][0]']              \n",
      "                                                                                                  \n",
      " batch_normalization_14 (BatchN  (None, 512)         2048        ['dense_4[0][0]']                \n",
      " ormalization)                                                                                    \n",
      "                                                                                                  \n",
      " activation_14 (Activation)     (None, 512)          0           ['batch_normalization_14[0][0]'] \n",
      "                                                                                                  \n",
      " dropout_14 (Dropout)           (None, 512)          0           ['activation_14[0][0]']          \n",
      "                                                                                                  \n",
      " dense_5 (Dense)                (None, 7)            3591        ['dropout_14[0][0]']             \n",
      "                                                                                                  \n",
      "==================================================================================================\n",
      "Total params: 5,112,839\n",
      "Trainable params: 5,110,919\n",
      "Non-trainable params: 1,920\n",
      "__________________________________________________________________________________________________\n"
     ]
    }
   ],
   "source": [
    "model.summary()"
   ]
  },
  {
   "cell_type": "code",
   "execution_count": 33,
   "metadata": {},
   "outputs": [],
   "source": [
    "from sklearn.model_selection import train_test_split"
   ]
  },
  {
   "cell_type": "code",
   "execution_count": 34,
   "metadata": {},
   "outputs": [],
   "source": [
    "# Set parameters\n",
    "batch_size = 64\n",
    "epochs = 50\n",
    "\n",
    "# Split data into training and validation sets\n",
    "x_train, x_val, y_train, y_val = train_test_split(x, y, test_size=0.2, random_state=42)"
   ]
  },
  {
   "cell_type": "code",
   "execution_count": 35,
   "metadata": {},
   "outputs": [],
   "source": [
    "\n",
    "from tensorflow.keras.utils import to_categorical\n",
    "\n",
    "y_train_cat = to_categorical(y_train, num_classes=7)\n",
    "y_val_cat = to_categorical(y_val, num_classes=7)"
   ]
  },
  {
   "cell_type": "code",
   "execution_count": 47,
   "metadata": {},
   "outputs": [
    {
     "name": "stdout",
     "output_type": "stream",
     "text": [
      "Epoch 1/50\n",
      "449/449 [==============================] - 35s 56ms/step - loss: 2.1973 - accuracy: 0.2142 - precision: 0.2433 - recall: 0.0804 - auc: 0.5453 - val_loss: 2.0738 - val_accuracy: 0.2573 - val_precision: 0.5714 - val_recall: 0.0028 - val_auc: 0.6010\n",
      "Epoch 2/50\n",
      "449/449 [==============================] - 24s 53ms/step - loss: 2.0413 - accuracy: 0.2312 - precision: 0.2675 - recall: 0.0636 - auc: 0.5565 - val_loss: 1.7695 - val_accuracy: 0.2919 - val_precision: 0.4776 - val_recall: 0.0312 - val_auc: 0.6356\n",
      "Epoch 3/50\n",
      "449/449 [==============================] - 24s 53ms/step - loss: 1.9844 - accuracy: 0.2380 - precision: 0.2829 - recall: 0.0564 - auc: 0.5650 - val_loss: 1.7108 - val_accuracy: 0.3082 - val_precision: 0.5007 - val_recall: 0.0476 - val_auc: 0.6509\n",
      "Epoch 4/50\n",
      "449/449 [==============================] - 24s 53ms/step - loss: 1.9315 - accuracy: 0.2441 - precision: 0.2901 - recall: 0.0504 - auc: 0.5748 - val_loss: 1.7958 - val_accuracy: 0.2933 - val_precision: 0.4725 - val_recall: 0.0956 - val_auc: 0.6579\n",
      "Epoch 5/50\n",
      "449/449 [==============================] - 24s 53ms/step - loss: 1.8949 - accuracy: 0.2564 - precision: 0.3153 - recall: 0.0513 - auc: 0.5843 - val_loss: 1.7413 - val_accuracy: 0.3186 - val_precision: 0.5230 - val_recall: 0.0997 - val_auc: 0.6789\n",
      "Epoch 6/50\n",
      "449/449 [==============================] - 24s 53ms/step - loss: 1.8500 - accuracy: 0.2677 - precision: 0.3652 - recall: 0.0569 - auc: 0.5989 - val_loss: 1.7002 - val_accuracy: 0.3469 - val_precision: 0.5935 - val_recall: 0.1318 - val_auc: 0.6905\n",
      "Epoch 7/50\n",
      "449/449 [==============================] - 24s 53ms/step - loss: 1.8165 - accuracy: 0.2820 - precision: 0.4102 - recall: 0.0633 - auc: 0.6102 - val_loss: 1.7520 - val_accuracy: 0.3239 - val_precision: 0.4880 - val_recall: 0.1695 - val_auc: 0.7087\n",
      "Epoch 8/50\n",
      "449/449 [==============================] - 25s 55ms/step - loss: 1.7882 - accuracy: 0.2927 - precision: 0.4520 - recall: 0.0679 - auc: 0.6192 - val_loss: 1.9126 - val_accuracy: 0.3019 - val_precision: 0.3810 - val_recall: 0.2123 - val_auc: 0.7020\n",
      "Epoch 9/50\n",
      "449/449 [==============================] - 26s 57ms/step - loss: 1.7588 - accuracy: 0.3024 - precision: 0.4832 - recall: 0.0747 - auc: 0.6345 - val_loss: 1.6936 - val_accuracy: 0.3721 - val_precision: 0.5609 - val_recall: 0.1893 - val_auc: 0.7300\n",
      "Epoch 10/50\n",
      "449/449 [==============================] - 27s 60ms/step - loss: 1.7327 - accuracy: 0.3134 - precision: 0.5113 - recall: 0.0775 - auc: 0.6426 - val_loss: 1.7203 - val_accuracy: 0.3458 - val_precision: 0.4468 - val_recall: 0.2210 - val_auc: 0.7274\n",
      "Epoch 11/50\n",
      "449/449 [==============================] - 27s 60ms/step - loss: 1.7036 - accuracy: 0.3228 - precision: 0.5386 - recall: 0.0834 - auc: 0.6583 - val_loss: 1.6439 - val_accuracy: 0.3784 - val_precision: 0.5137 - val_recall: 0.2480 - val_auc: 0.7467\n",
      "Epoch 12/50\n",
      "449/449 [==============================] - 25s 56ms/step - loss: 1.6781 - accuracy: 0.3339 - precision: 0.5642 - recall: 0.0927 - auc: 0.6694 - val_loss: 1.7123 - val_accuracy: 0.3713 - val_precision: 0.4664 - val_recall: 0.2792 - val_auc: 0.7487\n",
      "Epoch 13/50\n",
      "449/449 [==============================] - 26s 57ms/step - loss: 1.6604 - accuracy: 0.3431 - precision: 0.5901 - recall: 0.1017 - auc: 0.6761 - val_loss: 1.5602 - val_accuracy: 0.4166 - val_precision: 0.5687 - val_recall: 0.2849 - val_auc: 0.7705\n",
      "Epoch 14/50\n",
      "449/449 [==============================] - 25s 56ms/step - loss: 1.6272 - accuracy: 0.3613 - precision: 0.6211 - recall: 0.1140 - auc: 0.6934 - val_loss: 1.7488 - val_accuracy: 0.3798 - val_precision: 0.4531 - val_recall: 0.2864 - val_auc: 0.7609\n",
      "Epoch 15/50\n",
      "449/449 [==============================] - 24s 54ms/step - loss: 1.6022 - accuracy: 0.3718 - precision: 0.6304 - recall: 0.1241 - auc: 0.7042 - val_loss: 1.5354 - val_accuracy: 0.4327 - val_precision: 0.5670 - val_recall: 0.2895 - val_auc: 0.7745\n",
      "Epoch 16/50\n",
      "449/449 [==============================] - 24s 54ms/step - loss: 1.5864 - accuracy: 0.3823 - precision: 0.6444 - recall: 0.1332 - auc: 0.7096 - val_loss: 1.5981 - val_accuracy: 0.4276 - val_precision: 0.5321 - val_recall: 0.3222 - val_auc: 0.7801\n",
      "Epoch 17/50\n",
      "449/449 [==============================] - 26s 57ms/step - loss: 1.5590 - accuracy: 0.3950 - precision: 0.6536 - recall: 0.1442 - auc: 0.7211 - val_loss: 1.4039 - val_accuracy: 0.4728 - val_precision: 0.6553 - val_recall: 0.3019 - val_auc: 0.7877\n",
      "Epoch 18/50\n",
      "449/449 [==============================] - 26s 58ms/step - loss: 1.5484 - accuracy: 0.3998 - precision: 0.6632 - recall: 0.1474 - auc: 0.7258 - val_loss: 1.4181 - val_accuracy: 0.4726 - val_precision: 0.6361 - val_recall: 0.3076 - val_auc: 0.7968\n",
      "Epoch 19/50\n",
      "449/449 [==============================] - 26s 58ms/step - loss: 1.5272 - accuracy: 0.4100 - precision: 0.6740 - recall: 0.1583 - auc: 0.7342 - val_loss: 1.4149 - val_accuracy: 0.4847 - val_precision: 0.6123 - val_recall: 0.3590 - val_auc: 0.8106\n",
      "Epoch 20/50\n",
      "449/449 [==============================] - 26s 58ms/step - loss: 1.5051 - accuracy: 0.4189 - precision: 0.6867 - recall: 0.1669 - auc: 0.7477 - val_loss: 1.5147 - val_accuracy: 0.4561 - val_precision: 0.5774 - val_recall: 0.3356 - val_auc: 0.7988\n",
      "Epoch 21/50\n",
      "449/449 [==============================] - 26s 57ms/step - loss: 1.4963 - accuracy: 0.4248 - precision: 0.6853 - recall: 0.1723 - auc: 0.7486 - val_loss: 1.4671 - val_accuracy: 0.4731 - val_precision: 0.5682 - val_recall: 0.3771 - val_auc: 0.8105\n",
      "Epoch 22/50\n",
      "449/449 [==============================] - 24s 53ms/step - loss: 1.4768 - accuracy: 0.4288 - precision: 0.6880 - recall: 0.1767 - auc: 0.7574 - val_loss: 1.3200 - val_accuracy: 0.5107 - val_precision: 0.6645 - val_recall: 0.3582 - val_auc: 0.8205\n",
      "Epoch 23/50\n",
      "449/449 [==============================] - 24s 53ms/step - loss: 1.4606 - accuracy: 0.4351 - precision: 0.6981 - recall: 0.1855 - auc: 0.7615 - val_loss: 1.4109 - val_accuracy: 0.4898 - val_precision: 0.6086 - val_recall: 0.3862 - val_auc: 0.8171\n",
      "Epoch 24/50\n",
      "449/449 [==============================] - 24s 53ms/step - loss: 1.4563 - accuracy: 0.4361 - precision: 0.7009 - recall: 0.1906 - auc: 0.7639 - val_loss: 1.2976 - val_accuracy: 0.5123 - val_precision: 0.6585 - val_recall: 0.3693 - val_auc: 0.8234\n",
      "Epoch 25/50\n",
      "449/449 [==============================] - 24s 54ms/step - loss: 1.4424 - accuracy: 0.4454 - precision: 0.7040 - recall: 0.1941 - auc: 0.7694 - val_loss: 1.2893 - val_accuracy: 0.5195 - val_precision: 0.6680 - val_recall: 0.3767 - val_auc: 0.8336\n",
      "Epoch 26/50\n",
      "449/449 [==============================] - 25s 56ms/step - loss: 1.4311 - accuracy: 0.4490 - precision: 0.7070 - recall: 0.1989 - auc: 0.7759 - val_loss: 1.3137 - val_accuracy: 0.5160 - val_precision: 0.6487 - val_recall: 0.3866 - val_auc: 0.8292\n",
      "Epoch 27/50\n",
      "449/449 [==============================] - 24s 54ms/step - loss: 1.4196 - accuracy: 0.4564 - precision: 0.7052 - recall: 0.2094 - auc: 0.7772 - val_loss: 1.2390 - val_accuracy: 0.5327 - val_precision: 0.6878 - val_recall: 0.3858 - val_auc: 0.8397\n",
      "Epoch 28/50\n",
      "449/449 [==============================] - 24s 53ms/step - loss: 1.4100 - accuracy: 0.4569 - precision: 0.7148 - recall: 0.2100 - auc: 0.7833 - val_loss: 1.2391 - val_accuracy: 0.5398 - val_precision: 0.6810 - val_recall: 0.3918 - val_auc: 0.8412\n",
      "Epoch 29/50\n",
      "449/449 [==============================] - 24s 54ms/step - loss: 1.4012 - accuracy: 0.4620 - precision: 0.7208 - recall: 0.2172 - auc: 0.7863 - val_loss: 1.2975 - val_accuracy: 0.5159 - val_precision: 0.6352 - val_recall: 0.4128 - val_auc: 0.8420\n",
      "Epoch 30/50\n",
      "449/449 [==============================] - 25s 57ms/step - loss: 1.3948 - accuracy: 0.4666 - precision: 0.7134 - recall: 0.2218 - auc: 0.7892 - val_loss: 1.2550 - val_accuracy: 0.5318 - val_precision: 0.6579 - val_recall: 0.4075 - val_auc: 0.8427\n",
      "Epoch 31/50\n",
      "449/449 [==============================] - 25s 55ms/step - loss: 1.3916 - accuracy: 0.4677 - precision: 0.7134 - recall: 0.2248 - auc: 0.7893 - val_loss: 1.3214 - val_accuracy: 0.5213 - val_precision: 0.6307 - val_recall: 0.4199 - val_auc: 0.8394\n",
      "Epoch 32/50\n",
      "449/449 [==============================] - 24s 53ms/step - loss: 1.3801 - accuracy: 0.4691 - precision: 0.7175 - recall: 0.2297 - auc: 0.7941 - val_loss: 1.2271 - val_accuracy: 0.5421 - val_precision: 0.6722 - val_recall: 0.4100 - val_auc: 0.8472\n",
      "Epoch 33/50\n",
      "449/449 [==============================] - 24s 53ms/step - loss: 1.3680 - accuracy: 0.4758 - precision: 0.7209 - recall: 0.2372 - auc: 0.7973 - val_loss: 1.2860 - val_accuracy: 0.5341 - val_precision: 0.6541 - val_recall: 0.4104 - val_auc: 0.8458\n",
      "Epoch 34/50\n",
      "449/449 [==============================] - 24s 53ms/step - loss: 1.3667 - accuracy: 0.4776 - precision: 0.7182 - recall: 0.2364 - auc: 0.7977 - val_loss: 1.4016 - val_accuracy: 0.5064 - val_precision: 0.5964 - val_recall: 0.4199 - val_auc: 0.8353\n",
      "Epoch 35/50\n",
      "449/449 [==============================] - 24s 53ms/step - loss: 1.3591 - accuracy: 0.4786 - precision: 0.7181 - recall: 0.2426 - auc: 0.8006 - val_loss: 1.2250 - val_accuracy: 0.5478 - val_precision: 0.6729 - val_recall: 0.4262 - val_auc: 0.8532\n",
      "Epoch 36/50\n",
      "449/449 [==============================] - 24s 53ms/step - loss: 1.3513 - accuracy: 0.4837 - precision: 0.7245 - recall: 0.2453 - auc: 0.8041 - val_loss: 1.2081 - val_accuracy: 0.5479 - val_precision: 0.6700 - val_recall: 0.4351 - val_auc: 0.8562\n",
      "Epoch 37/50\n",
      "449/449 [==============================] - 24s 54ms/step - loss: 1.3468 - accuracy: 0.4823 - precision: 0.7204 - recall: 0.2479 - auc: 0.8047 - val_loss: 1.1922 - val_accuracy: 0.5541 - val_precision: 0.6766 - val_recall: 0.4355 - val_auc: 0.8575\n",
      "Epoch 38/50\n",
      "449/449 [==============================] - 24s 54ms/step - loss: 1.3409 - accuracy: 0.4862 - precision: 0.7197 - recall: 0.2545 - auc: 0.8059 - val_loss: 1.1773 - val_accuracy: 0.5582 - val_precision: 0.6887 - val_recall: 0.4230 - val_auc: 0.8563\n",
      "Epoch 39/50\n",
      "449/449 [==============================] - 25s 55ms/step - loss: 1.3356 - accuracy: 0.4911 - precision: 0.7302 - recall: 0.2572 - auc: 0.8086 - val_loss: 1.1992 - val_accuracy: 0.5513 - val_precision: 0.6764 - val_recall: 0.4342 - val_auc: 0.8596\n",
      "Epoch 40/50\n",
      "449/449 [==============================] - 25s 56ms/step - loss: 1.3281 - accuracy: 0.4913 - precision: 0.7244 - recall: 0.2611 - auc: 0.8092 - val_loss: 1.2366 - val_accuracy: 0.5407 - val_precision: 0.6520 - val_recall: 0.4447 - val_auc: 0.8593\n",
      "Epoch 41/50\n",
      "449/449 [==============================] - 25s 55ms/step - loss: 1.3197 - accuracy: 0.4965 - precision: 0.7238 - recall: 0.2649 - auc: 0.8135 - val_loss: 1.1418 - val_accuracy: 0.5695 - val_precision: 0.7121 - val_recall: 0.4324 - val_auc: 0.8639\n",
      "Epoch 42/50\n",
      "449/449 [==============================] - 24s 54ms/step - loss: 1.3181 - accuracy: 0.4963 - precision: 0.7295 - recall: 0.2655 - auc: 0.8134 - val_loss: 1.3648 - val_accuracy: 0.4990 - val_precision: 0.5985 - val_recall: 0.4101 - val_auc: 0.8509\n",
      "Epoch 43/50\n",
      "449/449 [==============================] - 24s 53ms/step - loss: 1.3125 - accuracy: 0.4995 - precision: 0.7290 - recall: 0.2693 - auc: 0.8176 - val_loss: 1.2345 - val_accuracy: 0.5461 - val_precision: 0.6536 - val_recall: 0.4401 - val_auc: 0.8575\n",
      "Epoch 44/50\n",
      "449/449 [==============================] - 25s 55ms/step - loss: 1.3059 - accuracy: 0.5044 - precision: 0.7306 - recall: 0.2734 - auc: 0.8172 - val_loss: 1.2306 - val_accuracy: 0.5424 - val_precision: 0.6636 - val_recall: 0.4374 - val_auc: 0.8597\n",
      "Epoch 45/50\n",
      "449/449 [==============================] - 26s 58ms/step - loss: 1.2997 - accuracy: 0.5046 - precision: 0.7260 - recall: 0.2784 - auc: 0.8214 - val_loss: 1.2563 - val_accuracy: 0.5365 - val_precision: 0.6515 - val_recall: 0.4394 - val_auc: 0.8560\n",
      "Epoch 46/50\n",
      "449/449 [==============================] - 27s 60ms/step - loss: 1.2956 - accuracy: 0.5032 - precision: 0.7258 - recall: 0.2789 - auc: 0.8205 - val_loss: 1.2292 - val_accuracy: 0.5525 - val_precision: 0.6540 - val_recall: 0.4497 - val_auc: 0.8612\n",
      "Epoch 47/50\n",
      "449/449 [==============================] - 26s 57ms/step - loss: 1.2918 - accuracy: 0.5095 - precision: 0.7343 - recall: 0.2843 - auc: 0.8199 - val_loss: 1.3666 - val_accuracy: 0.5209 - val_precision: 0.6039 - val_recall: 0.4457 - val_auc: 0.8542\n",
      "Epoch 48/50\n",
      "449/449 [==============================] - 25s 55ms/step - loss: 1.2927 - accuracy: 0.5076 - precision: 0.7271 - recall: 0.2826 - auc: 0.8227 - val_loss: 1.2053 - val_accuracy: 0.5510 - val_precision: 0.6543 - val_recall: 0.4529 - val_auc: 0.8667\n",
      "Epoch 49/50\n",
      "449/449 [==============================] - 24s 53ms/step - loss: 1.2840 - accuracy: 0.5076 - precision: 0.7344 - recall: 0.2857 - auc: 0.8258 - val_loss: 1.2778 - val_accuracy: 0.5362 - val_precision: 0.6370 - val_recall: 0.4498 - val_auc: 0.8558\n",
      "Epoch 50/50\n",
      "449/449 [==============================] - 24s 53ms/step - loss: 1.2782 - accuracy: 0.5138 - precision: 0.7349 - recall: 0.2914 - auc: 0.8256 - val_loss: 1.2192 - val_accuracy: 0.5510 - val_precision: 0.6521 - val_recall: 0.4563 - val_auc: 0.8666\n"
     ]
    }
   ],
   "source": [
    "# Create training data generator\n",
    "train_generator = datagen.flow(x_train, y_train_cat, batch_size=batch_size)\n",
    "\n",
    "# Train model\n",
    "history = model.fit(train_generator, epochs=epochs, validation_data=(x_val, y_val_cat))"
   ]
  },
  {
   "cell_type": "code",
   "execution_count": 48,
   "metadata": {},
   "outputs": [
    {
     "name": "stdout",
     "output_type": "stream",
     "text": [
      "225/225 [==============================] - 2s 7ms/step\n",
      "Classification Report:\n",
      "               precision    recall  f1-score   support\n",
      "\n",
      "           0       0.54      0.42      0.47       985\n",
      "           1       0.70      0.07      0.13       102\n",
      "           2       0.69      0.08      0.15      1043\n",
      "           3       0.71      0.86      0.78      1765\n",
      "           4       0.53      0.23      0.33      1210\n",
      "           5       0.66      0.75      0.70       795\n",
      "           6       0.39      0.82      0.53      1278\n",
      "\n",
      "    accuracy                           0.55      7178\n",
      "   macro avg       0.60      0.46      0.44      7178\n",
      "weighted avg       0.59      0.55      0.51      7178\n",
      "\n"
     ]
    },
    {
     "data": {
      "image/png": "[encoded data removed]",
      "text/plain": [
       "<Figure size 800x600 with 2 Axes>"
      ]
     },
     "metadata": {},
     "output_type": "display_data"
    }
   ],
   "source": [
    "from sklearn.metrics import classification_report, confusion_matrix\n",
    "import matplotlib.pyplot as plt\n",
    "import numpy as np\n",
    "\n",
    "# Predictions\n",
    "y_pred = np.argmax(model.predict(x_val), axis=1)\n",
    "\n",
    "# Convert one-hot to class indices\n",
    "y_true = y_val\n",
    "\n",
    "# Classification report\n",
    "report = classification_report(y_true, y_pred)\n",
    "print(\"Classification Report:\\n\", report)\n",
    "\n",
    "# Confusion matrix\n",
    "cm = confusion_matrix(y_true, y_pred)\n",
    "plt.figure(figsize=(8, 6))\n",
    "plt.imshow(cm, cmap='coolwarm')\n",
    "plt.title('Confusion Matrix')\n",
    "plt.xlabel('Predicted Label')\n",
    "plt.ylabel('True Label')\n",
    "plt.colorbar()\n",
    "plt.show()\n"
   ]
  },
  {
   "cell_type": "code",
   "execution_count": 56,
   "metadata": {},
   "outputs": [
    {
     "name": "stdout",
     "output_type": "stream",
     "text": [
      "1/1 [==============================] - 0s 29ms/step\n",
      "Prediction: [[4.5025077e-01 8.7011920e-04 3.0336478e-03 4.5160006e-04 3.3444960e-02\n",
      "  6.3532723e-05 5.1188540e-01]]\n",
      "Predicted Class: 6\n"
     ]
    }
   ],
   "source": [
    "import numpy as np\n",
    "\n",
    "# Assuming x_test is a numpy array with shape (num_samples, 48, 48, 1)\n",
    "# x_test[0] is the first image in your test set\n",
    "\n",
    "# Preprocess the input (if needed)\n",
    "x_sample = np.expand_dims(x_val[5], axis=0)  # Add batch dimension: (1, 48, 48, 1)\n",
    "\n",
    "# Predict using the model\n",
    "prediction = model.predict(x_sample)\n",
    "\n",
    "# Print the prediction\n",
    "print(\"Prediction:\", prediction)\n",
    "\n",
    "# If it's a classification problem, the output will be a probability distribution\n",
    "# For the final predicted class, you can take the argmax (if using softmax)\n",
    "predicted_class = np.argmax(prediction)\n",
    "print(\"Predicted Class:\", predicted_class)\n"
   ]
  },
  {
   "cell_type": "code",
   "execution_count": 55,
   "metadata": {},
   "outputs": [
    {
     "data": {
      "text/plain": [
       "6"
      ]
     },
     "execution_count": 55,
     "metadata": {},
     "output_type": "execute_result"
    }
   ],
   "source": [
    "y_val[5]"
   ]
  },
  {
   "cell_type": "code",
   "execution_count": 39,
   "metadata": {},
   "outputs": [
    {
     "data": {
      "text/plain": [
       "<matplotlib.image.AxesImage at 0x246aed404c0>"
      ]
     },
     "execution_count": 39,
     "metadata": {},
     "output_type": "execute_result"
    },
    {
     "data": {
      "image/png": "[encoded data removed]",
      "text/plain": [
       "<Figure size 640x480 with 1 Axes>"
      ]
     },
     "metadata": {},
     "output_type": "display_data"
    }
   ],
   "source": [
    "plt.imshow(x_val[5], cmap='gray')"
   ]
  },
  {
   "cell_type": "code",
   "execution_count": null,
   "metadata": {},
   "outputs": [],
   "source": []
  }
 ],
 "metadata": {
  "kernelspec": {
   "display_name": "cap",
   "language": "python",
   "name": "python3"
  },
  "language_info": {
   "codemirror_mode": {
    "name": "ipython",
    "version": 3
   },
   "file_extension": ".py",
   "mimetype": "text/x-python",
   "name": "python",
   "nbconvert_exporter": "python",
   "pygments_lexer": "ipython3",
   "version": "3.9.21"
  }
 },
 "nbformat": 4,
 "nbformat_minor": 2
}
